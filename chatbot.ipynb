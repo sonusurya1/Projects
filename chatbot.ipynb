{
 "cells": [
  {
   "cell_type": "code",
   "execution_count": 1,
   "id": "a8b407b4-f3db-4b83-b627-40de72fc4df5",
   "metadata": {},
   "outputs": [],
   "source": [
    "# Importing necessary libraries\n",
    "from transformers import MarianMTModel, MarianTokenizer\n",
    "import gradio as gr"
   ]
  },
  {
   "cell_type": "code",
   "execution_count": 2,
   "id": "b72a3b17-df29-49da-a32b-16cdb61dbe1b",
   "metadata": {},
   "outputs": [],
   "source": [
    "# Loading the translation model (English to Hindi)\n",
    "model_name = 'Helsinki-NLP/opus-mt-en-hi'\n",
    "tokenizer = MarianTokenizer.from_pretrained(model_name)\n",
    "model = MarianMTModel.from_pretrained(model_name)"
   ]
  },
  {
   "cell_type": "code",
   "execution_count": 3,
   "id": "e523381e-b436-463c-a819-d262be4ea7a7",
   "metadata": {},
   "outputs": [],
   "source": [
    "# Translation function\n",
    "def translate(text):\n",
    "    # Tokenize the input text\n",
    "    tokenized_text = tokenizer([text], return_tensors=\"pt\", padding=True)\n",
    "    # Generate translation using the model\n",
    "    translated_tokens = model.generate(**tokenized_text)\n",
    "    # Decode the tokens back to text\n",
    "    translated_text = tokenizer.decode(translated_tokens[0], skip_special_tokens=True)\n",
    "    return translated_text"
   ]
  },
  {
   "cell_type": "code",
   "execution_count": 4,
   "id": "f6a1f9fa-7958-47a3-b31f-8514d53c941a",
   "metadata": {},
   "outputs": [],
   "source": [
    "# Gradio interface function\n",
    "def chatbot(input_text):\n",
    "    translation = translate(input_text)\n",
    "    return f\"Translated Text: {translation}\""
   ]
  },
  {
   "cell_type": "code",
   "execution_count": 5,
   "id": "98e21388-9029-42dd-980c-b6134a6f196c",
   "metadata": {},
   "outputs": [],
   "source": [
    "# Creating the Gradio interface\n",
    "interface = gr.Interface(fn=chatbot, inputs=\"text\", outputs=\"text\", title=\"Language Translation Chatbot\",\n",
    "                         description=\"Enter a sentence in English to get the Hindi translation.\")"
   ]
  },
  {
   "cell_type": "code",
   "execution_count": 6,
   "id": "c3bd5a55-62e1-4dae-8820-238e9fd39b60",
   "metadata": {},
   "outputs": [
    {
     "name": "stdout",
     "output_type": "stream",
     "text": [
      "Running on local URL:  http://127.0.0.1:7860\n",
      "\n",
      "To create a public link, set `share=True` in `launch()`.\n"
     ]
    },
    {
     "data": {
      "text/html": [
       "<div><iframe src=\"http://127.0.0.1:7860/\" width=\"100%\" height=\"500\" allow=\"autoplay; camera; microphone; clipboard-read; clipboard-write;\" frameborder=\"0\" allowfullscreen></iframe></div>"
      ],
      "text/plain": [
       "<IPython.core.display.HTML object>"
      ]
     },
     "metadata": {},
     "output_type": "display_data"
    },
    {
     "data": {
      "text/plain": []
     },
     "execution_count": 6,
     "metadata": {},
     "output_type": "execute_result"
    }
   ],
   "source": [
    "# Launch the Gradio app\n",
    "interface.launch()"
   ]
  },
  {
   "cell_type": "code",
   "execution_count": null,
   "id": "3f256c66-f4fb-497e-982b-d01ac9b92de4",
   "metadata": {},
   "outputs": [],
   "source": []
  }
 ],
 "metadata": {
  "kernelspec": {
   "display_name": "Python 3 (ipykernel)",
   "language": "python",
   "name": "python3"
  },
  "language_info": {
   "codemirror_mode": {
    "name": "ipython",
    "version": 3
   },
   "file_extension": ".py",
   "mimetype": "text/x-python",
   "name": "python",
   "nbconvert_exporter": "python",
   "pygments_lexer": "ipython3",
   "version": "3.12.4"
  }
 },
 "nbformat": 4,
 "nbformat_minor": 5
}
